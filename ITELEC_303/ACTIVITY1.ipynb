{
 "cells": [
  {
   "cell_type": "markdown",
   "id": "7515f703-2711-41d2-8493-670da28f6d41",
   "metadata": {},
   "source": [
    "<h1> ACTIVITY1 - PALMER PENGUINS DATA ANALYTICS PROJECT </h1>\n",
    "<hr>"
   ]
  },
  {
   "cell_type": "markdown",
   "id": "ee5a2a40-40f2-40ed-91c4-88d53945e4c6",
   "metadata": {},
   "source": [
    "<h3> ANALYST: Mark Angelo Salazar </h3>"
   ]
  },
  {
   "cell_type": "code",
   "execution_count": 96,
   "id": "b7958292-cbf4-44e4-99f4-f7ee761867a1",
   "metadata": {},
   "outputs": [],
   "source": [
    "import numpy as np\n",
    "import pandas as pd\n",
    "import warnings\n",
    "warnings.filterwarnings ('ignore')\n",
    "import matplotlib.pyplot as plt"
   ]
  },
  {
   "cell_type": "code",
   "execution_count": 52,
   "id": "71a8bd95-42f7-473e-b7b9-1cee90aa0d6c",
   "metadata": {},
   "outputs": [],
   "source": [
    "peng = pd.read_csv('datasets\\\\penguins.csv')"
   ]
  },
  {
   "cell_type": "code",
   "execution_count": 53,
   "id": "410119b8-e358-4e4d-8161-ff6659bbe121",
   "metadata": {},
   "outputs": [
    {
     "data": {
      "text/html": [
       "<div>\n",
       "<style scoped>\n",
       "    .dataframe tbody tr th:only-of-type {\n",
       "        vertical-align: middle;\n",
       "    }\n",
       "\n",
       "    .dataframe tbody tr th {\n",
       "        vertical-align: top;\n",
       "    }\n",
       "\n",
       "    .dataframe thead th {\n",
       "        text-align: right;\n",
       "    }\n",
       "</style>\n",
       "<table border=\"1\" class=\"dataframe\">\n",
       "  <thead>\n",
       "    <tr style=\"text-align: right;\">\n",
       "      <th></th>\n",
       "      <th>species</th>\n",
       "      <th>island</th>\n",
       "      <th>bill_length_mm</th>\n",
       "      <th>bill_depth_mm</th>\n",
       "      <th>flipper_length_mm</th>\n",
       "      <th>body_mass_g</th>\n",
       "      <th>sex</th>\n",
       "    </tr>\n",
       "  </thead>\n",
       "  <tbody>\n",
       "    <tr>\n",
       "      <th>0</th>\n",
       "      <td>Adelie</td>\n",
       "      <td>Torgersen</td>\n",
       "      <td>39.1</td>\n",
       "      <td>18.7</td>\n",
       "      <td>181.0</td>\n",
       "      <td>3750.0</td>\n",
       "      <td>MALE</td>\n",
       "    </tr>\n",
       "    <tr>\n",
       "      <th>1</th>\n",
       "      <td>Adelie</td>\n",
       "      <td>Torgersen</td>\n",
       "      <td>39.5</td>\n",
       "      <td>17.4</td>\n",
       "      <td>186.0</td>\n",
       "      <td>3800.0</td>\n",
       "      <td>FEMALE</td>\n",
       "    </tr>\n",
       "    <tr>\n",
       "      <th>2</th>\n",
       "      <td>Adelie</td>\n",
       "      <td>Torgersen</td>\n",
       "      <td>40.3</td>\n",
       "      <td>18.0</td>\n",
       "      <td>195.0</td>\n",
       "      <td>3250.0</td>\n",
       "      <td>FEMALE</td>\n",
       "    </tr>\n",
       "    <tr>\n",
       "      <th>3</th>\n",
       "      <td>Adelie</td>\n",
       "      <td>Torgersen</td>\n",
       "      <td>NaN</td>\n",
       "      <td>NaN</td>\n",
       "      <td>NaN</td>\n",
       "      <td>NaN</td>\n",
       "      <td>NaN</td>\n",
       "    </tr>\n",
       "    <tr>\n",
       "      <th>4</th>\n",
       "      <td>Adelie</td>\n",
       "      <td>Torgersen</td>\n",
       "      <td>36.7</td>\n",
       "      <td>19.3</td>\n",
       "      <td>193.0</td>\n",
       "      <td>3450.0</td>\n",
       "      <td>FEMALE</td>\n",
       "    </tr>\n",
       "    <tr>\n",
       "      <th>...</th>\n",
       "      <td>...</td>\n",
       "      <td>...</td>\n",
       "      <td>...</td>\n",
       "      <td>...</td>\n",
       "      <td>...</td>\n",
       "      <td>...</td>\n",
       "      <td>...</td>\n",
       "    </tr>\n",
       "    <tr>\n",
       "      <th>339</th>\n",
       "      <td>Gentoo</td>\n",
       "      <td>Biscoe</td>\n",
       "      <td>NaN</td>\n",
       "      <td>NaN</td>\n",
       "      <td>NaN</td>\n",
       "      <td>NaN</td>\n",
       "      <td>NaN</td>\n",
       "    </tr>\n",
       "    <tr>\n",
       "      <th>340</th>\n",
       "      <td>Gentoo</td>\n",
       "      <td>Biscoe</td>\n",
       "      <td>46.8</td>\n",
       "      <td>14.3</td>\n",
       "      <td>215.0</td>\n",
       "      <td>4850.0</td>\n",
       "      <td>FEMALE</td>\n",
       "    </tr>\n",
       "    <tr>\n",
       "      <th>341</th>\n",
       "      <td>Gentoo</td>\n",
       "      <td>Biscoe</td>\n",
       "      <td>50.4</td>\n",
       "      <td>15.7</td>\n",
       "      <td>222.0</td>\n",
       "      <td>5750.0</td>\n",
       "      <td>MALE</td>\n",
       "    </tr>\n",
       "    <tr>\n",
       "      <th>342</th>\n",
       "      <td>Gentoo</td>\n",
       "      <td>Biscoe</td>\n",
       "      <td>45.2</td>\n",
       "      <td>14.8</td>\n",
       "      <td>212.0</td>\n",
       "      <td>5200.0</td>\n",
       "      <td>FEMALE</td>\n",
       "    </tr>\n",
       "    <tr>\n",
       "      <th>343</th>\n",
       "      <td>Gentoo</td>\n",
       "      <td>Biscoe</td>\n",
       "      <td>49.9</td>\n",
       "      <td>16.1</td>\n",
       "      <td>213.0</td>\n",
       "      <td>5400.0</td>\n",
       "      <td>MALE</td>\n",
       "    </tr>\n",
       "  </tbody>\n",
       "</table>\n",
       "<p>344 rows × 7 columns</p>\n",
       "</div>"
      ],
      "text/plain": [
       "    species     island  bill_length_mm  bill_depth_mm  flipper_length_mm  \\\n",
       "0    Adelie  Torgersen            39.1           18.7              181.0   \n",
       "1    Adelie  Torgersen            39.5           17.4              186.0   \n",
       "2    Adelie  Torgersen            40.3           18.0              195.0   \n",
       "3    Adelie  Torgersen             NaN            NaN                NaN   \n",
       "4    Adelie  Torgersen            36.7           19.3              193.0   \n",
       "..      ...        ...             ...            ...                ...   \n",
       "339  Gentoo     Biscoe             NaN            NaN                NaN   \n",
       "340  Gentoo     Biscoe            46.8           14.3              215.0   \n",
       "341  Gentoo     Biscoe            50.4           15.7              222.0   \n",
       "342  Gentoo     Biscoe            45.2           14.8              212.0   \n",
       "343  Gentoo     Biscoe            49.9           16.1              213.0   \n",
       "\n",
       "     body_mass_g     sex  \n",
       "0         3750.0    MALE  \n",
       "1         3800.0  FEMALE  \n",
       "2         3250.0  FEMALE  \n",
       "3            NaN     NaN  \n",
       "4         3450.0  FEMALE  \n",
       "..           ...     ...  \n",
       "339          NaN     NaN  \n",
       "340       4850.0  FEMALE  \n",
       "341       5750.0    MALE  \n",
       "342       5200.0  FEMALE  \n",
       "343       5400.0    MALE  \n",
       "\n",
       "[344 rows x 7 columns]"
      ]
     },
     "execution_count": 53,
     "metadata": {},
     "output_type": "execute_result"
    }
   ],
   "source": [
    "peng"
   ]
  },
  {
   "cell_type": "code",
   "execution_count": 5,
   "id": "afc96333-7e16-497e-9764-f89856c61336",
   "metadata": {},
   "outputs": [
    {
     "data": {
      "text/html": [
       "<div>\n",
       "<style scoped>\n",
       "    .dataframe tbody tr th:only-of-type {\n",
       "        vertical-align: middle;\n",
       "    }\n",
       "\n",
       "    .dataframe tbody tr th {\n",
       "        vertical-align: top;\n",
       "    }\n",
       "\n",
       "    .dataframe thead th {\n",
       "        text-align: right;\n",
       "    }\n",
       "</style>\n",
       "<table border=\"1\" class=\"dataframe\">\n",
       "  <thead>\n",
       "    <tr style=\"text-align: right;\">\n",
       "      <th></th>\n",
       "      <th>count</th>\n",
       "      <th>mean</th>\n",
       "      <th>std</th>\n",
       "      <th>min</th>\n",
       "      <th>25%</th>\n",
       "      <th>50%</th>\n",
       "      <th>75%</th>\n",
       "      <th>max</th>\n",
       "    </tr>\n",
       "  </thead>\n",
       "  <tbody>\n",
       "    <tr>\n",
       "      <th>bill_length_mm</th>\n",
       "      <td>342.0</td>\n",
       "      <td>43.921930</td>\n",
       "      <td>5.459584</td>\n",
       "      <td>32.1</td>\n",
       "      <td>39.225</td>\n",
       "      <td>44.45</td>\n",
       "      <td>48.5</td>\n",
       "      <td>59.6</td>\n",
       "    </tr>\n",
       "    <tr>\n",
       "      <th>bill_depth_mm</th>\n",
       "      <td>342.0</td>\n",
       "      <td>17.151170</td>\n",
       "      <td>1.974793</td>\n",
       "      <td>13.1</td>\n",
       "      <td>15.600</td>\n",
       "      <td>17.30</td>\n",
       "      <td>18.7</td>\n",
       "      <td>21.5</td>\n",
       "    </tr>\n",
       "    <tr>\n",
       "      <th>flipper_length_mm</th>\n",
       "      <td>342.0</td>\n",
       "      <td>200.915205</td>\n",
       "      <td>14.061714</td>\n",
       "      <td>172.0</td>\n",
       "      <td>190.000</td>\n",
       "      <td>197.00</td>\n",
       "      <td>213.0</td>\n",
       "      <td>231.0</td>\n",
       "    </tr>\n",
       "    <tr>\n",
       "      <th>body_mass_g</th>\n",
       "      <td>342.0</td>\n",
       "      <td>4201.754386</td>\n",
       "      <td>801.954536</td>\n",
       "      <td>2700.0</td>\n",
       "      <td>3550.000</td>\n",
       "      <td>4050.00</td>\n",
       "      <td>4750.0</td>\n",
       "      <td>6300.0</td>\n",
       "    </tr>\n",
       "  </tbody>\n",
       "</table>\n",
       "</div>"
      ],
      "text/plain": [
       "                   count         mean         std     min       25%      50%  \\\n",
       "bill_length_mm     342.0    43.921930    5.459584    32.1    39.225    44.45   \n",
       "bill_depth_mm      342.0    17.151170    1.974793    13.1    15.600    17.30   \n",
       "flipper_length_mm  342.0   200.915205   14.061714   172.0   190.000   197.00   \n",
       "body_mass_g        342.0  4201.754386  801.954536  2700.0  3550.000  4050.00   \n",
       "\n",
       "                      75%     max  \n",
       "bill_length_mm       48.5    59.6  \n",
       "bill_depth_mm        18.7    21.5  \n",
       "flipper_length_mm   213.0   231.0  \n",
       "body_mass_g        4750.0  6300.0  "
      ]
     },
     "execution_count": 5,
     "metadata": {},
     "output_type": "execute_result"
    }
   ],
   "source": [
    "peng.describe().T"
   ]
  },
  {
   "cell_type": "markdown",
   "id": "593e6345-206e-4895-ac49-4f5122f14a20",
   "metadata": {},
   "source": [
    "<h2>FILTERING A COLUMN/DATA</h2>"
   ]
  },
  {
   "cell_type": "code",
   "execution_count": 6,
   "id": "c0e7c04b-1aa8-453d-8726-465c26514ad3",
   "metadata": {},
   "outputs": [
    {
     "data": {
      "text/plain": [
       "0      Adelie\n",
       "1      Adelie\n",
       "2      Adelie\n",
       "3      Adelie\n",
       "4      Adelie\n",
       "        ...  \n",
       "339    Gentoo\n",
       "340    Gentoo\n",
       "341    Gentoo\n",
       "342    Gentoo\n",
       "343    Gentoo\n",
       "Name: species, Length: 344, dtype: object"
      ]
     },
     "execution_count": 6,
     "metadata": {},
     "output_type": "execute_result"
    }
   ],
   "source": [
    "peng['species']"
   ]
  },
  {
   "cell_type": "code",
   "execution_count": 7,
   "id": "f5f912f2-1855-45d7-b588-b6aa387a5a8e",
   "metadata": {},
   "outputs": [
    {
     "data": {
      "text/plain": [
       "0        MALE\n",
       "1      FEMALE\n",
       "2      FEMALE\n",
       "3         NaN\n",
       "4      FEMALE\n",
       "        ...  \n",
       "339       NaN\n",
       "340    FEMALE\n",
       "341      MALE\n",
       "342    FEMALE\n",
       "343      MALE\n",
       "Name: sex, Length: 344, dtype: object"
      ]
     },
     "execution_count": 7,
     "metadata": {},
     "output_type": "execute_result"
    }
   ],
   "source": [
    "peng['sex']"
   ]
  },
  {
   "cell_type": "code",
   "execution_count": 8,
   "id": "018014a8-bc0a-4fb7-80db-5fc1c98f04f8",
   "metadata": {},
   "outputs": [
    {
     "data": {
      "text/html": [
       "<div>\n",
       "<style scoped>\n",
       "    .dataframe tbody tr th:only-of-type {\n",
       "        vertical-align: middle;\n",
       "    }\n",
       "\n",
       "    .dataframe tbody tr th {\n",
       "        vertical-align: top;\n",
       "    }\n",
       "\n",
       "    .dataframe thead th {\n",
       "        text-align: right;\n",
       "    }\n",
       "</style>\n",
       "<table border=\"1\" class=\"dataframe\">\n",
       "  <thead>\n",
       "    <tr style=\"text-align: right;\">\n",
       "      <th></th>\n",
       "      <th>species</th>\n",
       "      <th>island</th>\n",
       "      <th>bill_length_mm</th>\n",
       "      <th>bill_depth_mm</th>\n",
       "      <th>flipper_length_mm</th>\n",
       "      <th>body_mass_g</th>\n",
       "      <th>sex</th>\n",
       "    </tr>\n",
       "  </thead>\n",
       "  <tbody>\n",
       "  </tbody>\n",
       "</table>\n",
       "</div>"
      ],
      "text/plain": [
       "Empty DataFrame\n",
       "Columns: [species, island, bill_length_mm, bill_depth_mm, flipper_length_mm, body_mass_g, sex]\n",
       "Index: []"
      ]
     },
     "execution_count": 8,
     "metadata": {},
     "output_type": "execute_result"
    }
   ],
   "source": [
    "peng[(peng['bill_depth_mm'] <= 20) & (peng['sex'] == 'torgersen')]"
   ]
  },
  {
   "cell_type": "markdown",
   "id": "fb88393f-ceee-46ae-a9e9-35b2a78aa422",
   "metadata": {},
   "source": [
    "<h1>Cleaning The Data Frame</h1>"
   ]
  },
  {
   "cell_type": "code",
   "execution_count": 9,
   "id": "b127355c-6d49-4b51-8666-c8d885541228",
   "metadata": {},
   "outputs": [
    {
     "data": {
      "text/plain": [
       "species               0\n",
       "island                0\n",
       "bill_length_mm        2\n",
       "bill_depth_mm         2\n",
       "flipper_length_mm     2\n",
       "body_mass_g           2\n",
       "sex                  11\n",
       "dtype: int64"
      ]
     },
     "execution_count": 9,
     "metadata": {},
     "output_type": "execute_result"
    }
   ],
   "source": [
    "peng.isnull().sum()"
   ]
  },
  {
   "cell_type": "markdown",
   "id": "e63a77b7-9f45-42d9-9284-7479fe9e96da",
   "metadata": {},
   "source": [
    "<h1>Whate to do with the null values?</h1>"
   ]
  },
  {
   "cell_type": "code",
   "execution_count": 10,
   "id": "35ea9e1b-a5cc-4f7d-9eca-62d644825e00",
   "metadata": {},
   "outputs": [
    {
     "data": {
      "text/plain": [
       "43.9219298245614"
      ]
     },
     "execution_count": 10,
     "metadata": {},
     "output_type": "execute_result"
    }
   ],
   "source": [
    "peng['bill_length_mm'].mean()"
   ]
  },
  {
   "cell_type": "code",
   "execution_count": 11,
   "id": "f51a7a4f-b9de-4a66-8675-eb44d2ae0ec9",
   "metadata": {},
   "outputs": [
    {
     "data": {
      "text/plain": [
       "0    MALE\n",
       "Name: sex, dtype: object"
      ]
     },
     "execution_count": 11,
     "metadata": {},
     "output_type": "execute_result"
    }
   ],
   "source": [
    "peng['sex'].mode()"
   ]
  },
  {
   "cell_type": "markdown",
   "id": "d0408409-a650-4f3b-b4a2-3d67080426b0",
   "metadata": {},
   "source": [
    "<h1>How to fillup null values?</h1>"
   ]
  },
  {
   "cell_type": "code",
   "execution_count": 12,
   "id": "883af934-6a31-42b3-97d4-eaae170da618",
   "metadata": {},
   "outputs": [],
   "source": [
    "peng['bill_length_mm'] = peng['bill_length_mm'].fillna(peng['bill_length_mm'].mean())"
   ]
  },
  {
   "cell_type": "code",
   "execution_count": 13,
   "id": "d71821c6-bb6b-49f5-a56b-bdf9a3474b20",
   "metadata": {},
   "outputs": [
    {
     "data": {
      "text/plain": [
       "species               0\n",
       "island                0\n",
       "bill_length_mm        0\n",
       "bill_depth_mm         2\n",
       "flipper_length_mm     2\n",
       "body_mass_g           2\n",
       "sex                  11\n",
       "dtype: int64"
      ]
     },
     "execution_count": 13,
     "metadata": {},
     "output_type": "execute_result"
    }
   ],
   "source": [
    "peng.isnull().sum()"
   ]
  },
  {
   "cell_type": "code",
   "execution_count": 14,
   "id": "394239a6-a8fe-4bbd-8857-9dc788498a9f",
   "metadata": {},
   "outputs": [],
   "source": [
    "peng['bill_depth_mm'] = peng['bill_depth_mm'].fillna(peng['bill_depth_mm'].mean())"
   ]
  },
  {
   "cell_type": "code",
   "execution_count": 15,
   "id": "58f5c747-5b2f-470e-bd8d-8ef0e122cd86",
   "metadata": {},
   "outputs": [
    {
     "data": {
      "text/plain": [
       "species               0\n",
       "island                0\n",
       "bill_length_mm        0\n",
       "bill_depth_mm         0\n",
       "flipper_length_mm     2\n",
       "body_mass_g           2\n",
       "sex                  11\n",
       "dtype: int64"
      ]
     },
     "execution_count": 15,
     "metadata": {},
     "output_type": "execute_result"
    }
   ],
   "source": [
    "peng.isnull().sum()"
   ]
  },
  {
   "cell_type": "code",
   "execution_count": 16,
   "id": "4ac3729b-ee34-4c55-9be0-6b8b53edaabe",
   "metadata": {},
   "outputs": [],
   "source": [
    "peng['flipper_length_mm'] = peng['flipper_length_mm'].fillna(peng['flipper_length_mm'].mean())"
   ]
  },
  {
   "cell_type": "code",
   "execution_count": 17,
   "id": "6974c404-b32f-451b-b4ed-f23997971bc9",
   "metadata": {},
   "outputs": [
    {
     "data": {
      "text/plain": [
       "species               0\n",
       "island                0\n",
       "bill_length_mm        0\n",
       "bill_depth_mm         0\n",
       "flipper_length_mm     0\n",
       "body_mass_g           2\n",
       "sex                  11\n",
       "dtype: int64"
      ]
     },
     "execution_count": 17,
     "metadata": {},
     "output_type": "execute_result"
    }
   ],
   "source": [
    "peng.isnull().sum()"
   ]
  },
  {
   "cell_type": "code",
   "execution_count": 18,
   "id": "6c88fdc2-32ca-4e98-bb0f-91a5af78bb96",
   "metadata": {},
   "outputs": [],
   "source": [
    "peng['body_mass_g'] = peng['body_mass_g'].fillna(peng['body_mass_g'].mean())"
   ]
  },
  {
   "cell_type": "code",
   "execution_count": 19,
   "id": "96ef49dd-8417-4182-bed3-b9ab6332084f",
   "metadata": {},
   "outputs": [
    {
     "data": {
      "text/plain": [
       "species               0\n",
       "island                0\n",
       "bill_length_mm        0\n",
       "bill_depth_mm         0\n",
       "flipper_length_mm     0\n",
       "body_mass_g           0\n",
       "sex                  11\n",
       "dtype: int64"
      ]
     },
     "execution_count": 19,
     "metadata": {},
     "output_type": "execute_result"
    }
   ],
   "source": [
    "peng.isnull().sum()"
   ]
  },
  {
   "cell_type": "code",
   "execution_count": 20,
   "id": "1bc2f1e6-981c-4ede-978e-adefc63ed0b0",
   "metadata": {},
   "outputs": [],
   "source": [
    "peng['sex'] = peng['sex'].fillna(peng['sex'].mode()[0])"
   ]
  },
  {
   "cell_type": "code",
   "execution_count": 21,
   "id": "11daa141-4f28-4515-bd7c-4ac70c900776",
   "metadata": {},
   "outputs": [
    {
     "data": {
      "text/plain": [
       "species              0\n",
       "island               0\n",
       "bill_length_mm       0\n",
       "bill_depth_mm        0\n",
       "flipper_length_mm    0\n",
       "body_mass_g          0\n",
       "sex                  0\n",
       "dtype: int64"
      ]
     },
     "execution_count": 21,
     "metadata": {},
     "output_type": "execute_result"
    }
   ],
   "source": [
    "peng.isnull().sum()"
   ]
  },
  {
   "cell_type": "code",
   "execution_count": 22,
   "id": "34d39986-08e9-4e4b-b6d6-1936e17ed485",
   "metadata": {},
   "outputs": [
    {
     "name": "stdout",
     "output_type": "stream",
     "text": [
      "<class 'pandas.core.frame.DataFrame'>\n",
      "RangeIndex: 344 entries, 0 to 343\n",
      "Data columns (total 7 columns):\n",
      " #   Column             Non-Null Count  Dtype  \n",
      "---  ------             --------------  -----  \n",
      " 0   species            344 non-null    object \n",
      " 1   island             344 non-null    object \n",
      " 2   bill_length_mm     344 non-null    float64\n",
      " 3   bill_depth_mm      344 non-null    float64\n",
      " 4   flipper_length_mm  344 non-null    float64\n",
      " 5   body_mass_g        344 non-null    float64\n",
      " 6   sex                344 non-null    object \n",
      "dtypes: float64(4), object(3)\n",
      "memory usage: 18.9+ KB\n"
     ]
    }
   ],
   "source": [
    "peng.info()"
   ]
  },
  {
   "cell_type": "code",
   "execution_count": 23,
   "id": "a1257e23-afdd-4dca-955d-892d259a1bf3",
   "metadata": {},
   "outputs": [
    {
     "data": {
      "text/html": [
       "<div>\n",
       "<style scoped>\n",
       "    .dataframe tbody tr th:only-of-type {\n",
       "        vertical-align: middle;\n",
       "    }\n",
       "\n",
       "    .dataframe tbody tr th {\n",
       "        vertical-align: top;\n",
       "    }\n",
       "\n",
       "    .dataframe thead th {\n",
       "        text-align: right;\n",
       "    }\n",
       "</style>\n",
       "<table border=\"1\" class=\"dataframe\">\n",
       "  <thead>\n",
       "    <tr style=\"text-align: right;\">\n",
       "      <th></th>\n",
       "      <th>bill_length_mm</th>\n",
       "      <th>bill_depth_mm</th>\n",
       "      <th>flipper_length_mm</th>\n",
       "      <th>body_mass_g</th>\n",
       "    </tr>\n",
       "  </thead>\n",
       "  <tbody>\n",
       "    <tr>\n",
       "      <th>count</th>\n",
       "      <td>344.000000</td>\n",
       "      <td>344.000000</td>\n",
       "      <td>344.000000</td>\n",
       "      <td>344.000000</td>\n",
       "    </tr>\n",
       "    <tr>\n",
       "      <th>mean</th>\n",
       "      <td>43.921930</td>\n",
       "      <td>17.151170</td>\n",
       "      <td>200.915205</td>\n",
       "      <td>4201.754386</td>\n",
       "    </tr>\n",
       "    <tr>\n",
       "      <th>std</th>\n",
       "      <td>5.443643</td>\n",
       "      <td>1.969027</td>\n",
       "      <td>14.020657</td>\n",
       "      <td>799.613058</td>\n",
       "    </tr>\n",
       "    <tr>\n",
       "      <th>min</th>\n",
       "      <td>32.100000</td>\n",
       "      <td>13.100000</td>\n",
       "      <td>172.000000</td>\n",
       "      <td>2700.000000</td>\n",
       "    </tr>\n",
       "    <tr>\n",
       "      <th>25%</th>\n",
       "      <td>39.275000</td>\n",
       "      <td>15.600000</td>\n",
       "      <td>190.000000</td>\n",
       "      <td>3550.000000</td>\n",
       "    </tr>\n",
       "    <tr>\n",
       "      <th>50%</th>\n",
       "      <td>44.250000</td>\n",
       "      <td>17.300000</td>\n",
       "      <td>197.000000</td>\n",
       "      <td>4050.000000</td>\n",
       "    </tr>\n",
       "    <tr>\n",
       "      <th>75%</th>\n",
       "      <td>48.500000</td>\n",
       "      <td>18.700000</td>\n",
       "      <td>213.000000</td>\n",
       "      <td>4750.000000</td>\n",
       "    </tr>\n",
       "    <tr>\n",
       "      <th>max</th>\n",
       "      <td>59.600000</td>\n",
       "      <td>21.500000</td>\n",
       "      <td>231.000000</td>\n",
       "      <td>6300.000000</td>\n",
       "    </tr>\n",
       "  </tbody>\n",
       "</table>\n",
       "</div>"
      ],
      "text/plain": [
       "       bill_length_mm  bill_depth_mm  flipper_length_mm  body_mass_g\n",
       "count      344.000000     344.000000         344.000000   344.000000\n",
       "mean        43.921930      17.151170         200.915205  4201.754386\n",
       "std          5.443643       1.969027          14.020657   799.613058\n",
       "min         32.100000      13.100000         172.000000  2700.000000\n",
       "25%         39.275000      15.600000         190.000000  3550.000000\n",
       "50%         44.250000      17.300000         197.000000  4050.000000\n",
       "75%         48.500000      18.700000         213.000000  4750.000000\n",
       "max         59.600000      21.500000         231.000000  6300.000000"
      ]
     },
     "execution_count": 23,
     "metadata": {},
     "output_type": "execute_result"
    }
   ],
   "source": [
    "peng.describe()"
   ]
  },
  {
   "cell_type": "code",
   "execution_count": 24,
   "id": "c497dc83-26c0-4ade-9456-de4fbdaaff26",
   "metadata": {},
   "outputs": [],
   "source": [
    "peng['species'] = peng['species'].astype('category')"
   ]
  },
  {
   "cell_type": "code",
   "execution_count": 25,
   "id": "05a824d5-3f6a-481a-9acd-32ce75bc94db",
   "metadata": {},
   "outputs": [
    {
     "name": "stdout",
     "output_type": "stream",
     "text": [
      "<class 'pandas.core.frame.DataFrame'>\n",
      "RangeIndex: 344 entries, 0 to 343\n",
      "Data columns (total 7 columns):\n",
      " #   Column             Non-Null Count  Dtype   \n",
      "---  ------             --------------  -----   \n",
      " 0   species            344 non-null    category\n",
      " 1   island             344 non-null    object  \n",
      " 2   bill_length_mm     344 non-null    float64 \n",
      " 3   bill_depth_mm      344 non-null    float64 \n",
      " 4   flipper_length_mm  344 non-null    float64 \n",
      " 5   body_mass_g        344 non-null    float64 \n",
      " 6   sex                344 non-null    object  \n",
      "dtypes: category(1), float64(4), object(2)\n",
      "memory usage: 16.7+ KB\n"
     ]
    }
   ],
   "source": [
    "peng.info()"
   ]
  },
  {
   "cell_type": "code",
   "execution_count": 26,
   "id": "6cabe51e-e9c2-458a-a45d-43fa4c1fd1df",
   "metadata": {},
   "outputs": [],
   "source": [
    "peng['island'] = peng['island'].astype('category')"
   ]
  },
  {
   "cell_type": "code",
   "execution_count": 27,
   "id": "963fbdb0-f0c4-48f5-b848-1a03ca1d2dec",
   "metadata": {},
   "outputs": [
    {
     "name": "stdout",
     "output_type": "stream",
     "text": [
      "<class 'pandas.core.frame.DataFrame'>\n",
      "RangeIndex: 344 entries, 0 to 343\n",
      "Data columns (total 7 columns):\n",
      " #   Column             Non-Null Count  Dtype   \n",
      "---  ------             --------------  -----   \n",
      " 0   species            344 non-null    category\n",
      " 1   island             344 non-null    category\n",
      " 2   bill_length_mm     344 non-null    float64 \n",
      " 3   bill_depth_mm      344 non-null    float64 \n",
      " 4   flipper_length_mm  344 non-null    float64 \n",
      " 5   body_mass_g        344 non-null    float64 \n",
      " 6   sex                344 non-null    object  \n",
      "dtypes: category(2), float64(4), object(1)\n",
      "memory usage: 14.5+ KB\n"
     ]
    }
   ],
   "source": [
    "peng.info()"
   ]
  },
  {
   "cell_type": "code",
   "execution_count": 28,
   "id": "8a735a3b-6cfe-4e12-a490-4f5f051ddc6e",
   "metadata": {},
   "outputs": [],
   "source": [
    "peng['sex'] = peng['sex'].astype('category')"
   ]
  },
  {
   "cell_type": "code",
   "execution_count": 29,
   "id": "1991e321-6ae2-495f-8b6b-0347a0509499",
   "metadata": {},
   "outputs": [
    {
     "name": "stdout",
     "output_type": "stream",
     "text": [
      "<class 'pandas.core.frame.DataFrame'>\n",
      "RangeIndex: 344 entries, 0 to 343\n",
      "Data columns (total 7 columns):\n",
      " #   Column             Non-Null Count  Dtype   \n",
      "---  ------             --------------  -----   \n",
      " 0   species            344 non-null    category\n",
      " 1   island             344 non-null    category\n",
      " 2   bill_length_mm     344 non-null    float64 \n",
      " 3   bill_depth_mm      344 non-null    float64 \n",
      " 4   flipper_length_mm  344 non-null    float64 \n",
      " 5   body_mass_g        344 non-null    float64 \n",
      " 6   sex                344 non-null    category\n",
      "dtypes: category(3), float64(4)\n",
      "memory usage: 12.3 KB\n"
     ]
    }
   ],
   "source": [
    "peng.info()"
   ]
  },
  {
   "cell_type": "markdown",
   "id": "56bcc724-95f8-45e9-9e59-8a7f6bd280c6",
   "metadata": {},
   "source": [
    "<h1>EXPLORATORY DATA ANALYSIS (EDA)</h1>"
   ]
  },
  {
   "cell_type": "markdown",
   "id": "6f938f5f-0921-41d7-8ac4-b7ae325efba6",
   "metadata": {},
   "source": [
    "<h3>1.Which specie of penguin amongst the data set is the heaviest?</h3>"
   ]
  },
  {
   "cell_type": "code",
   "execution_count": 30,
   "id": "8f238325-41bb-4f59-b217-16e18adac715",
   "metadata": {},
   "outputs": [
    {
     "data": {
      "text/plain": [
       "4201.754385964912"
      ]
     },
     "execution_count": 30,
     "metadata": {},
     "output_type": "execute_result"
    }
   ],
   "source": [
    "peng['body_mass_g'].mean()"
   ]
  },
  {
   "cell_type": "code",
   "execution_count": 31,
   "id": "0862960a-873e-4c77-9788-d8c752cdc700",
   "metadata": {},
   "outputs": [
    {
     "data": {
      "text/plain": [
       "0       True\n",
       "1       True\n",
       "2       True\n",
       "3       True\n",
       "4       True\n",
       "       ...  \n",
       "339    False\n",
       "340    False\n",
       "341    False\n",
       "342    False\n",
       "343    False\n",
       "Name: species, Length: 344, dtype: bool"
      ]
     },
     "execution_count": 31,
     "metadata": {},
     "output_type": "execute_result"
    }
   ],
   "source": [
    "peng['species'] == \"Adelie\""
   ]
  },
  {
   "cell_type": "code",
   "execution_count": 32,
   "id": "cc8bbecd-7479-42d9-9255-2ad38e5717df",
   "metadata": {},
   "outputs": [
    {
     "data": {
      "text/plain": [
       "species\n",
       "Adelie       152\n",
       "Gentoo       124\n",
       "Chinstrap     68\n",
       "Name: count, dtype: int64"
      ]
     },
     "execution_count": 32,
     "metadata": {},
     "output_type": "execute_result"
    }
   ],
   "source": [
    "peng['species'].value_counts()"
   ]
  },
  {
   "cell_type": "code",
   "execution_count": 33,
   "id": "e6fdf8f4-24fb-415c-939a-c531f7e61d47",
   "metadata": {},
   "outputs": [
    {
     "data": {
      "text/html": [
       "<div>\n",
       "<style scoped>\n",
       "    .dataframe tbody tr th:only-of-type {\n",
       "        vertical-align: middle;\n",
       "    }\n",
       "\n",
       "    .dataframe tbody tr th {\n",
       "        vertical-align: top;\n",
       "    }\n",
       "\n",
       "    .dataframe thead th {\n",
       "        text-align: right;\n",
       "    }\n",
       "</style>\n",
       "<table border=\"1\" class=\"dataframe\">\n",
       "  <thead>\n",
       "    <tr style=\"text-align: right;\">\n",
       "      <th></th>\n",
       "      <th>species</th>\n",
       "      <th>island</th>\n",
       "      <th>bill_length_mm</th>\n",
       "      <th>bill_depth_mm</th>\n",
       "      <th>flipper_length_mm</th>\n",
       "      <th>body_mass_g</th>\n",
       "      <th>sex</th>\n",
       "    </tr>\n",
       "  </thead>\n",
       "  <tbody>\n",
       "    <tr>\n",
       "      <th>0</th>\n",
       "      <td>Adelie</td>\n",
       "      <td>Torgersen</td>\n",
       "      <td>39.10000</td>\n",
       "      <td>18.70000</td>\n",
       "      <td>181.000000</td>\n",
       "      <td>3750.000000</td>\n",
       "      <td>MALE</td>\n",
       "    </tr>\n",
       "    <tr>\n",
       "      <th>1</th>\n",
       "      <td>Adelie</td>\n",
       "      <td>Torgersen</td>\n",
       "      <td>39.50000</td>\n",
       "      <td>17.40000</td>\n",
       "      <td>186.000000</td>\n",
       "      <td>3800.000000</td>\n",
       "      <td>FEMALE</td>\n",
       "    </tr>\n",
       "    <tr>\n",
       "      <th>2</th>\n",
       "      <td>Adelie</td>\n",
       "      <td>Torgersen</td>\n",
       "      <td>40.30000</td>\n",
       "      <td>18.00000</td>\n",
       "      <td>195.000000</td>\n",
       "      <td>3250.000000</td>\n",
       "      <td>FEMALE</td>\n",
       "    </tr>\n",
       "    <tr>\n",
       "      <th>3</th>\n",
       "      <td>Adelie</td>\n",
       "      <td>Torgersen</td>\n",
       "      <td>43.92193</td>\n",
       "      <td>17.15117</td>\n",
       "      <td>200.915205</td>\n",
       "      <td>4201.754386</td>\n",
       "      <td>MALE</td>\n",
       "    </tr>\n",
       "    <tr>\n",
       "      <th>4</th>\n",
       "      <td>Adelie</td>\n",
       "      <td>Torgersen</td>\n",
       "      <td>36.70000</td>\n",
       "      <td>19.30000</td>\n",
       "      <td>193.000000</td>\n",
       "      <td>3450.000000</td>\n",
       "      <td>FEMALE</td>\n",
       "    </tr>\n",
       "    <tr>\n",
       "      <th>...</th>\n",
       "      <td>...</td>\n",
       "      <td>...</td>\n",
       "      <td>...</td>\n",
       "      <td>...</td>\n",
       "      <td>...</td>\n",
       "      <td>...</td>\n",
       "      <td>...</td>\n",
       "    </tr>\n",
       "    <tr>\n",
       "      <th>147</th>\n",
       "      <td>Adelie</td>\n",
       "      <td>Dream</td>\n",
       "      <td>36.60000</td>\n",
       "      <td>18.40000</td>\n",
       "      <td>184.000000</td>\n",
       "      <td>3475.000000</td>\n",
       "      <td>FEMALE</td>\n",
       "    </tr>\n",
       "    <tr>\n",
       "      <th>148</th>\n",
       "      <td>Adelie</td>\n",
       "      <td>Dream</td>\n",
       "      <td>36.00000</td>\n",
       "      <td>17.80000</td>\n",
       "      <td>195.000000</td>\n",
       "      <td>3450.000000</td>\n",
       "      <td>FEMALE</td>\n",
       "    </tr>\n",
       "    <tr>\n",
       "      <th>149</th>\n",
       "      <td>Adelie</td>\n",
       "      <td>Dream</td>\n",
       "      <td>37.80000</td>\n",
       "      <td>18.10000</td>\n",
       "      <td>193.000000</td>\n",
       "      <td>3750.000000</td>\n",
       "      <td>MALE</td>\n",
       "    </tr>\n",
       "    <tr>\n",
       "      <th>150</th>\n",
       "      <td>Adelie</td>\n",
       "      <td>Dream</td>\n",
       "      <td>36.00000</td>\n",
       "      <td>17.10000</td>\n",
       "      <td>187.000000</td>\n",
       "      <td>3700.000000</td>\n",
       "      <td>FEMALE</td>\n",
       "    </tr>\n",
       "    <tr>\n",
       "      <th>151</th>\n",
       "      <td>Adelie</td>\n",
       "      <td>Dream</td>\n",
       "      <td>41.50000</td>\n",
       "      <td>18.50000</td>\n",
       "      <td>201.000000</td>\n",
       "      <td>4000.000000</td>\n",
       "      <td>MALE</td>\n",
       "    </tr>\n",
       "  </tbody>\n",
       "</table>\n",
       "<p>152 rows × 7 columns</p>\n",
       "</div>"
      ],
      "text/plain": [
       "    species     island  bill_length_mm  bill_depth_mm  flipper_length_mm  \\\n",
       "0    Adelie  Torgersen        39.10000       18.70000         181.000000   \n",
       "1    Adelie  Torgersen        39.50000       17.40000         186.000000   \n",
       "2    Adelie  Torgersen        40.30000       18.00000         195.000000   \n",
       "3    Adelie  Torgersen        43.92193       17.15117         200.915205   \n",
       "4    Adelie  Torgersen        36.70000       19.30000         193.000000   \n",
       "..      ...        ...             ...            ...                ...   \n",
       "147  Adelie      Dream        36.60000       18.40000         184.000000   \n",
       "148  Adelie      Dream        36.00000       17.80000         195.000000   \n",
       "149  Adelie      Dream        37.80000       18.10000         193.000000   \n",
       "150  Adelie      Dream        36.00000       17.10000         187.000000   \n",
       "151  Adelie      Dream        41.50000       18.50000         201.000000   \n",
       "\n",
       "     body_mass_g     sex  \n",
       "0    3750.000000    MALE  \n",
       "1    3800.000000  FEMALE  \n",
       "2    3250.000000  FEMALE  \n",
       "3    4201.754386    MALE  \n",
       "4    3450.000000  FEMALE  \n",
       "..           ...     ...  \n",
       "147  3475.000000  FEMALE  \n",
       "148  3450.000000  FEMALE  \n",
       "149  3750.000000    MALE  \n",
       "150  3700.000000  FEMALE  \n",
       "151  4000.000000    MALE  \n",
       "\n",
       "[152 rows x 7 columns]"
      ]
     },
     "execution_count": 33,
     "metadata": {},
     "output_type": "execute_result"
    }
   ],
   "source": [
    "peng[peng['species'] == \"Adelie\"]"
   ]
  },
  {
   "cell_type": "code",
   "execution_count": 34,
   "id": "28ddd642-1e1d-4629-9cec-bdc274abb503",
   "metadata": {},
   "outputs": [],
   "source": [
    "adelie_df = peng[peng['species'] == \"Adelie\"]"
   ]
  },
  {
   "cell_type": "code",
   "execution_count": 35,
   "id": "b761c6de-ebfe-4105-ac25-344c98e3d1de",
   "metadata": {},
   "outputs": [
    {
     "data": {
      "text/plain": [
       "3703.95891043398"
      ]
     },
     "execution_count": 35,
     "metadata": {},
     "output_type": "execute_result"
    }
   ],
   "source": [
    "adelie_df['body_mass_g'].mean()"
   ]
  },
  {
   "cell_type": "code",
   "execution_count": 36,
   "id": "8ffecd48-0f71-4399-8040-95e1b44b226c",
   "metadata": {},
   "outputs": [
    {
     "data": {
      "text/plain": [
       "3703.95891043398"
      ]
     },
     "execution_count": 36,
     "metadata": {},
     "output_type": "execute_result"
    }
   ],
   "source": [
    "peng[peng['species'] == \"Adelie\"]['body_mass_g'].mean()"
   ]
  },
  {
   "cell_type": "markdown",
   "id": "b71d9953-39ca-4bcd-899c-568e85ad8a18",
   "metadata": {},
   "source": [
    "<h5>Insight: Gentoo is the heviest penguin specie.<h5/>"
   ]
  },
  {
   "cell_type": "markdown",
   "id": "a03e0436-86de-487c-b99b-7748c092c19c",
   "metadata": {},
   "source": [
    "<h3>2.Which island has the heaviest species?</h3>"
   ]
  },
  {
   "cell_type": "code",
   "execution_count": 101,
   "id": "614d1e44-72e2-4db5-bd20-09d7ce25eec8",
   "metadata": {},
   "outputs": [
    {
     "data": {
      "text/plain": [
       "<bound method Series.mean of 0      Torgersen\n",
       "1      Torgersen\n",
       "2      Torgersen\n",
       "3      Torgersen\n",
       "4      Torgersen\n",
       "         ...    \n",
       "339       Biscoe\n",
       "340       Biscoe\n",
       "341       Biscoe\n",
       "342       Biscoe\n",
       "343       Biscoe\n",
       "Name: island, Length: 344, dtype: object>"
      ]
     },
     "execution_count": 101,
     "metadata": {},
     "output_type": "execute_result"
    }
   ],
   "source": [
    "peng['island'].mean"
   ]
  },
  {
   "cell_type": "markdown",
   "id": "676c9e27-64a7-43ab-b709-7060a03dc284",
   "metadata": {},
   "source": [
    "<h3>3.Which island has the largest average of penguin body mass?</h3>"
   ]
  },
  {
   "cell_type": "code",
   "execution_count": 39,
   "id": "e5b34206-7edf-409e-a6fe-5123567bea41",
   "metadata": {},
   "outputs": [],
   "source": [
    "island_bmass = peng.groupby(['island'])['body_mass_g'].mean()\n"
   ]
  },
  {
   "cell_type": "code",
   "execution_count": 40,
   "id": "752876d8-bcd1-49af-9e07-c8957f5e75af",
   "metadata": {},
   "outputs": [
    {
     "data": {
      "text/plain": [
       "island\n",
       "Biscoe       4712.956871\n",
       "Dream        3712.903226\n",
       "Torgersen    3715.899123\n",
       "Name: body_mass_g, dtype: float64"
      ]
     },
     "execution_count": 40,
     "metadata": {},
     "output_type": "execute_result"
    }
   ],
   "source": [
    "island_bmass"
   ]
  },
  {
   "cell_type": "markdown",
   "id": "589d3654-9aef-43b5-9fdb-69d68b55019e",
   "metadata": {},
   "source": [
    "<h5>INSIGHT: Biscoe has the largest average of penguin body mass.</h5>"
   ]
  },
  {
   "cell_type": "markdown",
   "id": "2e02d10f-10de-4fb7-98eb-8eac2b0d1e47",
   "metadata": {},
   "source": [
    "<h3>4.What is the average body mass of each male Species?</h3>"
   ]
  },
  {
   "cell_type": "code",
   "execution_count": 41,
   "id": "3cc339ad-7d8f-4b29-9ecc-fdafe372bcc2",
   "metadata": {},
   "outputs": [],
   "source": [
    "male_bodymass = peng.groupby(['species','sex'])['body_mass_g'].mean()"
   ]
  },
  {
   "cell_type": "code",
   "execution_count": 42,
   "id": "01213e4b-db55-41ec-82c7-bb16b0facf06",
   "metadata": {},
   "outputs": [
    {
     "data": {
      "text/plain": [
       "species    sex   \n",
       "Adelie     FEMALE    3368.835616\n",
       "           MALE      4013.629802\n",
       "Chinstrap  FEMALE    3527.205882\n",
       "           MALE      3938.970588\n",
       "Gentoo     FEMALE    4679.741379\n",
       "           MALE      5411.011430\n",
       "Name: body_mass_g, dtype: float64"
      ]
     },
     "execution_count": 42,
     "metadata": {},
     "output_type": "execute_result"
    }
   ],
   "source": [
    "male_bodymass"
   ]
  },
  {
   "cell_type": "markdown",
   "id": "2d539bce-2a3f-460d-a455-614d8de0f447",
   "metadata": {},
   "source": [
    "<h5>INSIGHT: Male adelie specie has 4014 g and for male chinstrap its wieght is 3939 g, lastly male gentoo has 5411 g.</h5>"
   ]
  },
  {
   "cell_type": "markdown",
   "id": "7be88229-84e3-4bba-a428-21ebbdabcf8e",
   "metadata": {},
   "source": [
    "<h3>5.Is there a correlation between flipper length and weight?"
   ]
  },
  {
   "cell_type": "code",
   "execution_count": 43,
   "id": "b6014b0a-42ad-47f9-a282-5211f160d8bb",
   "metadata": {},
   "outputs": [],
   "source": [
    "flipper_mass_corr = peng['bill_depth_mm'].corr(peng[\"body_mass_g\"])"
   ]
  },
  {
   "cell_type": "code",
   "execution_count": 44,
   "id": "5d001458-c49d-4953-a11b-f8a4ea84a5d3",
   "metadata": {},
   "outputs": [
    {
     "data": {
      "text/plain": [
       "-0.4719156211860666"
      ]
     },
     "execution_count": 44,
     "metadata": {},
     "output_type": "execute_result"
    }
   ],
   "source": [
    "flipper_mass_corr"
   ]
  },
  {
   "cell_type": "markdown",
   "id": "8a55e737-a597-4a85-86b8-8fd59b196a7b",
   "metadata": {},
   "source": [
    "<h5>INSIGHT: There is a correlation between flipper length and weight of penguins.</h5>"
   ]
  },
  {
   "cell_type": "markdown",
   "id": "f3606b38-ce86-436e-8522-282b29397089",
   "metadata": {},
   "source": [
    "<h3>6.Which penguin species has the largest average bill length?"
   ]
  },
  {
   "cell_type": "code",
   "execution_count": 104,
   "id": "b08ec7fd-fdf1-4546-8982-b7c190accdb7",
   "metadata": {},
   "outputs": [],
   "source": [
    "largest_bill_length = peng.groupby('species')['bill_length_mm'].mean()"
   ]
  },
  {
   "cell_type": "code",
   "execution_count": 105,
   "id": "8ca08dd2-7132-4047-b0ca-e6defc37b730",
   "metadata": {},
   "outputs": [
    {
     "data": {
      "text/plain": [
       "species\n",
       "Adelie       38.791391\n",
       "Chinstrap    48.833824\n",
       "Gentoo       47.504878\n",
       "Name: bill_length_mm, dtype: float64"
      ]
     },
     "execution_count": 105,
     "metadata": {},
     "output_type": "execute_result"
    }
   ],
   "source": [
    "largest_bill_length"
   ]
  },
  {
   "cell_type": "markdown",
   "id": "5b13b987-ad7b-4644-8fe6-bb5bbc8adc72",
   "metadata": {},
   "source": [
    "<h5>INSIGHT: Chinstrap has the largest bill length.</h5>"
   ]
  },
  {
   "cell_type": "markdown",
   "id": "ce5de824-03d0-4a72-9f3f-5936706363e1",
   "metadata": {},
   "source": [
    "<h3>7.What is the average bill length of penguins by island?</h3>"
   ]
  },
  {
   "cell_type": "code",
   "execution_count": 47,
   "id": "1a5599bd-def9-4723-a54c-b764a96b67d9",
   "metadata": {},
   "outputs": [],
   "source": [
    "island_bill_length = peng.groupby('island')['bill_length_mm'].mean()"
   ]
  },
  {
   "cell_type": "code",
   "execution_count": 48,
   "id": "6e4c5096-35e6-41ab-8d34-eab506cba91f",
   "metadata": {},
   "outputs": [
    {
     "data": {
      "text/plain": [
       "island\n",
       "Biscoe       45.249535\n",
       "Dream        44.167742\n",
       "Torgersen    39.046576\n",
       "Name: bill_length_mm, dtype: float64"
      ]
     },
     "execution_count": 48,
     "metadata": {},
     "output_type": "execute_result"
    }
   ],
   "source": [
    "island_bill_length"
   ]
  },
  {
   "cell_type": "markdown",
   "id": "57898ae7-0c54-4cea-83b5-177c0af2d38d",
   "metadata": {},
   "source": [
    "<h5>INSIGHT: The average bill length of penguins in biscoe is 45 mm, and in dream is 44 mm, lastly in torgersen which is 39 mm.</h5>"
   ]
  },
  {
   "cell_type": "markdown",
   "id": "6291c917-b484-489e-bc9e-acbce870ab7a",
   "metadata": {},
   "source": [
    "<h3>8.Which island has the heaviest specie?</h3>"
   ]
  },
  {
   "cell_type": "code",
   "execution_count": 49,
   "id": "8ce48b62-a0b5-4aa8-a0b8-1f5fd4deeeb3",
   "metadata": {},
   "outputs": [],
   "source": [
    "island_heaviest_specie = peng.groupby(['island','species'])['body_mass_g'].mean()"
   ]
  },
  {
   "cell_type": "code",
   "execution_count": 50,
   "id": "78128921-6bab-4a99-843f-a2d0adbbde94",
   "metadata": {},
   "outputs": [
    {
     "data": {
      "text/plain": [
       "island     species  \n",
       "Biscoe     Adelie       3709.659091\n",
       "           Chinstrap            NaN\n",
       "           Gentoo       5068.965761\n",
       "Dream      Adelie       3688.392857\n",
       "           Chinstrap    3733.088235\n",
       "           Gentoo               NaN\n",
       "Torgersen  Adelie       3715.899123\n",
       "           Chinstrap            NaN\n",
       "           Gentoo               NaN\n",
       "Name: body_mass_g, dtype: float64"
      ]
     },
     "execution_count": 50,
     "metadata": {},
     "output_type": "execute_result"
    }
   ],
   "source": [
    "island_heaviest_specie"
   ]
  },
  {
   "cell_type": "markdown",
   "id": "8818d714-db0b-44b6-af2c-aa9973c6686e",
   "metadata": {},
   "source": [
    "<h5>INSIGHT: Biscoe island has the heaviest specie and it is gentoo.</h5>"
   ]
  },
  {
   "cell_type": "markdown",
   "id": "d816ed8b-474d-41c5-a14e-79ad6c1e0220",
   "metadata": {},
   "source": [
    "<h3>9.Is male penguin heavier then female penguin?</h3>"
   ]
  },
  {
   "cell_type": "code",
   "execution_count": 57,
   "id": "4137dffc-731a-4ed0-a817-a383d3691dee",
   "metadata": {},
   "outputs": [],
   "source": [
    "weight_sex=peng.groupby(\"sex\")[\"body_mass_g\"].mean()"
   ]
  },
  {
   "cell_type": "code",
   "execution_count": 58,
   "id": "999db32d-3e9e-4267-be26-156c6808dd15",
   "metadata": {},
   "outputs": [
    {
     "data": {
      "text/plain": [
       "sex\n",
       "FEMALE    3862.272727\n",
       "MALE      4545.684524\n",
       "Name: body_mass_g, dtype: float64"
      ]
     },
     "execution_count": 58,
     "metadata": {},
     "output_type": "execute_result"
    }
   ],
   "source": [
    "weight_sex"
   ]
  },
  {
   "cell_type": "markdown",
   "id": "663c0891-c99a-43bd-bc50-321bfd6c5990",
   "metadata": {},
   "source": [
    "<h5>INSIGHT: Male is Heavier than female</h5>"
   ]
  },
  {
   "cell_type": "markdown",
   "id": "0735081f-48e3-4b81-9a6f-671aa1935a22",
   "metadata": {},
   "source": [
    "<h3>10. Which island has the most penguins?</h3>"
   ]
  },
  {
   "cell_type": "code",
   "execution_count": 59,
   "id": "051c2d24-eb9d-4d13-8e9f-c63d6ff913a6",
   "metadata": {},
   "outputs": [],
   "source": [
    "island = peng[\"island\"].value_counts()"
   ]
  },
  {
   "cell_type": "code",
   "execution_count": 60,
   "id": "b4201426-de0f-4e9c-86d0-52b5d3efa744",
   "metadata": {},
   "outputs": [
    {
     "data": {
      "text/plain": [
       "island\n",
       "Biscoe       168\n",
       "Dream        124\n",
       "Torgersen     52\n",
       "Name: count, dtype: int64"
      ]
     },
     "execution_count": 60,
     "metadata": {},
     "output_type": "execute_result"
    }
   ],
   "source": [
    "island"
   ]
  },
  {
   "cell_type": "markdown",
   "id": "5dac9b67-61a9-4dc4-8800-f3a5b3505e32",
   "metadata": {},
   "source": [
    "<h5>INSIGHT: Biscoe Has the largest penguin population</h5>"
   ]
  },
  {
   "cell_type": "markdown",
   "id": "364927f6-60e9-4730-a36e-ccfb648dcabc",
   "metadata": {},
   "source": [
    "<h3>11. Who has the longer flippers among male and female species?</h3>"
   ]
  },
  {
   "cell_type": "code",
   "execution_count": 66,
   "id": "da06cfc2-7526-495e-a860-d5fab8fa33eb",
   "metadata": {},
   "outputs": [],
   "source": [
    "male_female_flength = peng.groupby([\"species\",\"sex\"])[\"flipper_length_mm\"].mean()"
   ]
  },
  {
   "cell_type": "code",
   "execution_count": 67,
   "id": "2fcaa339-34b5-462e-97b6-499f83991fa9",
   "metadata": {},
   "outputs": [
    {
     "data": {
      "text/plain": [
       "species    sex   \n",
       "Adelie     FEMALE    187.794521\n",
       "           MALE      192.410959\n",
       "Chinstrap  FEMALE    191.735294\n",
       "           MALE      199.911765\n",
       "Gentoo     FEMALE    212.706897\n",
       "           MALE      221.540984\n",
       "Name: flipper_length_mm, dtype: float64"
      ]
     },
     "execution_count": 67,
     "metadata": {},
     "output_type": "execute_result"
    }
   ],
   "source": [
    "male_female_flength"
   ]
  },
  {
   "cell_type": "markdown",
   "id": "62cda67e-ea24-459e-befa-223b93571766",
   "metadata": {},
   "source": [
    "<h5>INSIGHT: In all penguin species male has the longer flipper than male</h5>"
   ]
  },
  {
   "cell_type": "markdown",
   "id": "7be645bc-d6bf-4bcf-b62e-1eee4e2af38b",
   "metadata": {},
   "source": [
    "<h3>12. Which specie has the longest average flipper length?</h3>"
   ]
  },
  {
   "cell_type": "code",
   "execution_count": 83,
   "id": "27a998df-3608-4bd3-9233-291c872b994b",
   "metadata": {},
   "outputs": [],
   "source": [
    "flength = peng.groupby(\"species\")[(\"flipper_length_mm\")].mean()"
   ]
  },
  {
   "cell_type": "code",
   "execution_count": 84,
   "id": "ceab94b1-1f66-4017-92c3-b4ba239610e3",
   "metadata": {},
   "outputs": [
    {
     "data": {
      "text/plain": [
       "species\n",
       "Adelie       189.953642\n",
       "Chinstrap    195.823529\n",
       "Gentoo       217.186992\n",
       "Name: flipper_length_mm, dtype: float64"
      ]
     },
     "execution_count": 84,
     "metadata": {},
     "output_type": "execute_result"
    }
   ],
   "source": [
    "flength"
   ]
  },
  {
   "cell_type": "markdown",
   "id": "ef12513b-5df7-4a84-8684-e2240c235cb6",
   "metadata": {},
   "source": [
    "<h5>INSIGHT: Gentoo has the longest flipper</h5>"
   ]
  },
  {
   "cell_type": "code",
   "execution_count": 85,
   "id": "bab18ecb-6e6d-4748-810b-7b6101f11fca",
   "metadata": {},
   "outputs": [],
   "source": [
    "penguin_count = peng[\"species\"].value_counts()"
   ]
  },
  {
   "cell_type": "code",
   "execution_count": 86,
   "id": "08801341-f957-4648-b44b-3fdf42976025",
   "metadata": {},
   "outputs": [
    {
     "data": {
      "text/plain": [
       "species\n",
       "Adelie       152\n",
       "Gentoo       124\n",
       "Chinstrap     68\n",
       "Name: count, dtype: int64"
      ]
     },
     "execution_count": 86,
     "metadata": {},
     "output_type": "execute_result"
    }
   ],
   "source": [
    "penguin_count"
   ]
  },
  {
   "cell_type": "code",
   "execution_count": 87,
   "id": "7873577c-9bc6-4309-9853-202a85ca77b1",
   "metadata": {},
   "outputs": [
    {
     "data": {
      "text/plain": [
       "array([152, 124,  68], dtype=int64)"
      ]
     },
     "execution_count": 87,
     "metadata": {},
     "output_type": "execute_result"
    }
   ],
   "source": [
    "penguin_count.values"
   ]
  },
  {
   "cell_type": "code",
   "execution_count": 91,
   "id": "f83f711e-e74d-4e19-a209-c2aeaa78c9fb",
   "metadata": {},
   "outputs": [
    {
     "data": {
      "image/png": "[encoded data removed]",
      "text/plain": [
       "<Figure size 640x480 with 1 Axes>"
      ]
     },
     "metadata": {},
     "output_type": "display_data"
    }
   ],
   "source": [
    "plt.bar(penguin_count.index,penguin_count.values, color=[\"orange\",\"blue\",\"green\"])\n",
    "plt.xlabel(\"SPECIES\")\n",
    "plt.ylabel(\"POPULATION\")\n",
    "plt.show()"
   ]
  },
  {
   "cell_type": "code",
   "execution_count": null,
   "id": "355365e0-d95c-47b9-a0e9-6428f7788884",
   "metadata": {},
   "outputs": [],
   "source": []
  }
 ],
 "metadata": {
  "kernelspec": {
   "display_name": "Python 3 (ipykernel)",
   "language": "python",
   "name": "python3"
  },
  "language_info": {
   "codemirror_mode": {
    "name": "ipython",
    "version": 3
   },
   "file_extension": ".py",
   "mimetype": "text/x-python",
   "name": "python",
   "nbconvert_exporter": "python",
   "pygments_lexer": "ipython3",
   "version": "3.11.5"
  }
 },
 "nbformat": 4,
 "nbformat_minor": 5
}
